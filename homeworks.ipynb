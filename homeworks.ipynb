{
  "cells": [
    {
      "cell_type": "code",
      "execution_count": 39,
      "id": "2e4bf5a2",
      "metadata": {
        "id": "2e4bf5a2"
      },
      "outputs": [],
      "source": [
        "import cv2\n",
        "import numpy as np\n",
        "import matplotlib.pyplot as plt\n",
        "\n",
        "from scipy.optimize import minimize\n",
        "from sklearn.linear_model import LinearRegression\n"
      ]
    },
    {
      "cell_type": "markdown",
      "id": "3df800b9",
      "metadata": {
        "id": "3df800b9"
      },
      "source": [
        "## Yêu cầu bào toán\n",
        "- Sử dụng python và opencv\n",
        "- Tạo ảnh trắng size 400*200\n",
        "- vẽ hình vuông size 20*20 ở chính giữa\n",
        "- Chứng minh bản thân đúng"
      ]
    },
    {
      "cell_type": "markdown",
      "id": "2c59f4e3",
      "metadata": {
        "id": "2c59f4e3"
      },
      "source": [
        "### 1.Khởi tạo tham số"
      ]
    },
    {
      "cell_type": "code",
      "execution_count": 40,
      "id": "52e6e8bb",
      "metadata": {
        "id": "52e6e8bb"
      },
      "outputs": [],
      "source": [
        "# Khoi tao shape cua image va rec (bang dictionary)\n",
        "'''\n",
        "    Arguments:\n",
        "        width: chieu rong cua anh (pixels)\n",
        "        height: chieu cao cua anh (pixels)\n",
        "        channels: so kenh mau cua anh (1 kenh cho anh xam, 3 kenh cho anh mau RGB)\n",
        "        color: mau nen cua anh (RGB)\n",
        "'''\n",
        "image_attributes = {\n",
        "                'width': 200,\n",
        "                'height': 400,\n",
        "                'channels': 3,\n",
        "                'color': [255, 255, 255]\n",
        "               } # white color in BGR\n",
        "\n",
        "# Khoi tao shape cua rectangle (bang dictionary)\n",
        "'''\n",
        "    Arguments:\n",
        "        width: chieu rong cua hinh chu nhat (pixels)\n",
        "        height: chieu cao cua hinh chu nhat (pixels)\n",
        "        channels: so kenh mau cua hinh chu nhat (1 kenh cho anh xam, 3 kenh cho anh mau RGB)\n",
        "        color: mau cua hinh chu nhat (RGB)\n",
        "'''\n",
        "rec_attributes = {\n",
        "                    'width': 20,\n",
        "                    'height': 20,\n",
        "                    'channels': 3,\n",
        "                    'color': [0, 255, 0] # green theo yeu cau cua bai toan\n",
        "                 }"
      ]
    },
    {
      "cell_type": "markdown",
      "id": "46248974",
      "metadata": {
        "id": "46248974"
      },
      "source": [
        "### 2. Xây dựng Module tạo ảnh"
      ]
    },
    {
      "cell_type": "code",
      "execution_count": 41,
      "id": "663512c5",
      "metadata": {
        "id": "663512c5"
      },
      "outputs": [],
      "source": [
        "class Image_Render:\n",
        "    def __init__(self, image_attribute: dict) :\n",
        "        self.width = image_attribute['width']\n",
        "        self.height = image_attribute['height']\n",
        "        self.channels = image_attribute['channels']\n",
        "        self.color = image_attribute['color']\n",
        "\n",
        "    def image_render_by_loop(self):\n",
        "        # Tạo ảnh trắng\n",
        "        image = np.zeros((self.height, self.width, self.channels), dtype=np.uint8)\n",
        "        for i in range(self.height):\n",
        "            for j in range(self.width):\n",
        "                image[i, j] = self.color\n",
        "        return image\n",
        "\n",
        "    def image_render_by_numpy(self):\n",
        "        return np.full((self.height, self.width, self.channels), self.color, dtype=np.uint8)\n",
        "\n",
        ""
      ]
    },
    {
      "cell_type": "code",
      "execution_count": 42,
      "id": "4f6a4d29",
      "metadata": {
        "id": "4f6a4d29"
      },
      "outputs": [],
      "source": [
        "image = Image_Render(image_attributes).image_render_by_numpy()\n",
        "rec = Image_Render(rec_attributes).image_render_by_numpy()"
      ]
    },
    {
      "cell_type": "code",
      "execution_count": 43,
      "id": "8a3de0fb",
      "metadata": {
        "id": "8a3de0fb",
        "outputId": "6f074287-0f9e-4cf9-f66c-d845a61634de",
        "colab": {
          "base_uri": "https://localhost:8080/"
        }
      },
      "outputs": [
        {
          "output_type": "execute_result",
          "data": {
            "text/plain": [
              "((400, 200, 3), (20, 20, 3))"
            ]
          },
          "metadata": {},
          "execution_count": 43
        }
      ],
      "source": [
        "image.shape, rec.shape"
      ]
    },
    {
      "cell_type": "markdown",
      "id": "3304e4a0",
      "metadata": {
        "id": "3304e4a0"
      },
      "source": [
        "### 3. Xác định tâm của ảnh"
      ]
    },
    {
      "cell_type": "markdown",
      "id": "e0d86f06",
      "metadata": {
        "id": "e0d86f06"
      },
      "source": [
        "##### 3.1 Giao của 2 đường chéo"
      ]
    },
    {
      "cell_type": "code",
      "source": [
        "\n",
        "\n",
        "def bresenham_line(A: tuple, B: tuple):\n",
        "    \"\"\"\n",
        "    Vẽ một đường thẳng từ (x1, y1) đến (x2, y2)\n",
        "    sử dụng thuật toán Bresenham.\n",
        "    Trả về một danh sách các tọa độ điểm ảnh.\n",
        "    \"\"\"\n",
        "    x1, y1 = A\n",
        "    x2, y2 = B\n",
        "    dx = abs(x2 - x1)\n",
        "    dy = abs(y2 - y1)\n",
        "    sx = 1 if x1 < x2 else -1\n",
        "    sy = 1 if y1 < y2 else -1\n",
        "    err = dx - dy\n",
        "\n",
        "    # points = []\n",
        "    input = []\n",
        "    output = []\n",
        "    x, y = x1, y1\n",
        "\n",
        "    while True:\n",
        "        input.append(x)\n",
        "        output.append(y)\n",
        "\n",
        "        if x == x2 and y == y2:\n",
        "            break\n",
        "\n",
        "        e2 = 2 * err\n",
        "        if e2 > -dy:\n",
        "            err -= dy\n",
        "            x += sx\n",
        "        if e2 < dx:\n",
        "            err += dx\n",
        "            y += sy\n",
        "\n",
        "    return np.array(input), np.array(output)\n"
      ],
      "metadata": {
        "id": "2AAhFwxRfSvA"
      },
      "id": "2AAhFwxRfSvA",
      "execution_count": 60,
      "outputs": []
    },
    {
      "cell_type": "code",
      "execution_count": 66,
      "id": "be57c1fe",
      "metadata": {
        "id": "be57c1fe",
        "outputId": "1ec08101-b4a7-4b92-c9f3-1facfacee566",
        "colab": {
          "base_uri": "https://localhost:8080/"
        }
      },
      "outputs": [
        {
          "output_type": "stream",
          "name": "stdout",
          "text": [
            "400\n",
            "400\n"
          ]
        }
      ],
      "source": [
        "X, y = bresenham_line((0, 0), (image_attributes['width']-1, image_attributes['height']-1))\n",
        "print(len(X))\n",
        "print(len(y))"
      ]
    },
    {
      "cell_type": "code",
      "execution_count": 67,
      "id": "fc6f0359",
      "metadata": {
        "id": "fc6f0359",
        "outputId": "c85945a6-6ac2-4d7c-b10b-c7ec5183f541",
        "colab": {
          "base_uri": "https://localhost:8080/",
          "height": 430
        }
      },
      "outputs": [
        {
          "output_type": "display_data",
          "data": {
            "text/plain": [
              "<Figure size 640x480 with 1 Axes>"
            ],
            "image/png": "[encoded data removed]"
          },
          "metadata": {}
        }
      ],
      "source": [
        "plt.scatter(X, y)\n",
        "plt.show()"
      ]
    },
    {
      "cell_type": "markdown",
      "id": "2ff9859d",
      "metadata": {
        "id": "2ff9859d"
      },
      "source": []
    },
    {
      "cell_type": "code",
      "execution_count": 73,
      "id": "e7a04880",
      "metadata": {
        "id": "e7a04880",
        "outputId": "5bca17e0-bb96-49b3-a86b-93b8131089cb",
        "colab": {
          "base_uri": "https://localhost:8080/"
        }
      },
      "outputs": [
        {
          "output_type": "execute_result",
          "data": {
            "text/plain": [
              "(array([[2.]]), array([0.5]))"
            ]
          },
          "metadata": {},
          "execution_count": 73
        }
      ],
      "source": [
        "X = X.reshape(-1, 1)\n",
        "y = y.reshape(-1, 1)\n",
        "model = LinearRegression().fit(X, y)\n",
        "model.coef_, model.intercept_  # coef_ = [[2.]], intercept_ = [-0.]"
      ]
    },
    {
      "cell_type": "code",
      "execution_count": 75,
      "id": "43e5a17b",
      "metadata": {
        "id": "43e5a17b",
        "outputId": "e22fffe2-74d1-4a98-e947-f4c12fa20c99",
        "colab": {
          "base_uri": "https://localhost:8080/"
        }
      },
      "outputs": [
        {
          "output_type": "stream",
          "name": "stdout",
          "text": [
            "Tham số ước lượng: beta_0 = 0.5000\n",
            "Tham số ước lượng: beta_1 = 2.0000\n"
          ]
        }
      ],
      "source": [
        "# 2. Định nghĩa hàm log-likelihood\n",
        "def log_likelihood(params, X, y):\n",
        "    \"\"\"\n",
        "    Hàm log-likelihood cho mô hình hồi quy tuyến tính.\n",
        "    params[0] là beta_0 (hệ số chặn)\n",
        "    params[1] là beta_1 (hệ số góc)\n",
        "    params[2] là sigma (độ lệch chuẩn của sai số)\n",
        "    \"\"\"\n",
        "    beta_0, beta_1, sigma = params\n",
        "\n",
        "    # Tính giá trị dự đoán từ mô hình\n",
        "    y_pred = beta_0 + beta_1 * X # flatten() để chuyển X từ (n, 1) sang (n,)\n",
        "    # Tính phần còn lại (sai số)\n",
        "    residuals = y - y_pred\n",
        "\n",
        "    # Tính log-likelihood\n",
        "    # Hàm PDF của phân phối chuẩn: L(theta) = tích của PDF(yi | xi, theta)\n",
        "    # Log-likelihood: LL(theta) = tổng của ln(PDF(yi | xi, theta))\n",
        "    # ln(PDF) = -0.5 * ln(2*pi) - ln(sigma) - 0.5 * ((y - y_pred) / sigma)^2\n",
        "    n = len(y)\n",
        "    log_L = -n/2 * np.log(2 * np.pi) - n * np.log(sigma) - (1/(2 * sigma**2)) * np.sum(residuals**2)\n",
        "\n",
        "    # SciPy's `minimize` tìm cực tiểu, nên ta phải tối thiểu hóa log-likelihood âm\n",
        "    return -log_L\n",
        "\n",
        "# 3. Ước lượng các tham số bằng cách tối thiểu hóa hàm log-likelihood âm\n",
        "# Đặt giá trị khởi tạo cho các tham số (thường là một phỏng đoán hợp lý)\n",
        "initial_params = [0, 0, 1]\n",
        "\n",
        "# Sử dụng minimize của SciPy để tìm cực tiểu của hàm log-likelihood âm\n",
        "# Tham số bounds được sử dụng để đảm bảo sigma luôn dương\n",
        "bounds = [(None, None), (None, None), (0.01, None)]\n",
        "result = minimize(log_likelihood, initial_params, args=(X, y), bounds=bounds)\n",
        "\n",
        "# 4. Hiển thị kết quả ước lượng\n",
        "estimated_beta_0, estimated_beta_1, estimated_sigma = result.x\n",
        "\n",
        "print(f\"Tham số ước lượng: beta_0 = {estimated_beta_0:.4f}\")\n",
        "print(f\"Tham số ước lượng: beta_1 = {estimated_beta_1:.4f}\")"
      ]
    },
    {
      "cell_type": "code",
      "execution_count": 76,
      "id": "30963243",
      "metadata": {
        "id": "30963243"
      },
      "outputs": [],
      "source": [
        "y_reverse = np.flip(y)"
      ]
    },
    {
      "cell_type": "code",
      "execution_count": 77,
      "id": "d8b107f3",
      "metadata": {
        "id": "d8b107f3",
        "outputId": "df6d99ca-5133-4b64-f0da-73e5b988405e",
        "colab": {
          "base_uri": "https://localhost:8080/",
          "height": 430
        }
      },
      "outputs": [
        {
          "output_type": "display_data",
          "data": {
            "text/plain": [
              "<Figure size 640x480 with 1 Axes>"
            ],
            "image/png": "[encoded data removed]"
          },
          "metadata": {}
        }
      ],
      "source": [
        "plt.scatter(X, y_reverse)\n",
        "plt.show()"
      ]
    },
    {
      "cell_type": "code",
      "execution_count": 78,
      "id": "c1e6b2ef",
      "metadata": {
        "id": "c1e6b2ef",
        "outputId": "77070aae-26a6-4ffe-eaae-092f3a626156",
        "colab": {
          "base_uri": "https://localhost:8080/"
        }
      },
      "outputs": [
        {
          "output_type": "execute_result",
          "data": {
            "text/plain": [
              "(array([[-2.]]), array([398.5]))"
            ]
          },
          "metadata": {},
          "execution_count": 78
        }
      ],
      "source": [
        "model = LinearRegression().fit(X, y_reverse)\n",
        "model.coef_, model.intercept_  # coef_ = [[2.]], intercept_ = [-0.]"
      ]
    },
    {
      "cell_type": "code",
      "execution_count": 79,
      "id": "49723d3d",
      "metadata": {
        "id": "49723d3d",
        "outputId": "43ef175e-3b6c-49b7-da5a-585d27cba00a",
        "colab": {
          "base_uri": "https://localhost:8080/"
        }
      },
      "outputs": [
        {
          "output_type": "stream",
          "name": "stdout",
          "text": [
            "Tham số ước lượng: beta_0 = 398.5000\n",
            "Tham số ước lượng: beta_1 = -2.0000\n"
          ]
        }
      ],
      "source": [
        "result = minimize(log_likelihood, initial_params, args=(X, y_reverse), bounds=bounds)\n",
        "\n",
        "# 4. Hiển thị kết quả ước lượng\n",
        "estimated_beta_0, estimated_beta_1, estimated_sigma = result.x\n",
        "\n",
        "print(f\"Tham số ước lượng: beta_0 = {estimated_beta_0:.4f}\")\n",
        "print(f\"Tham số ước lượng: beta_1 = {estimated_beta_1:.4f}\")"
      ]
    },
    {
      "cell_type": "code",
      "execution_count": 81,
      "id": "2cd93d2d",
      "metadata": {
        "id": "2cd93d2d",
        "outputId": "ece12431-8d02-4a08-c7b1-79e7f898db25",
        "colab": {
          "base_uri": "https://localhost:8080/",
          "height": 430
        }
      },
      "outputs": [
        {
          "output_type": "display_data",
          "data": {
            "text/plain": [
              "<Figure size 640x480 with 1 Axes>"
            ],
            "image/png": "[encoded data removed]"
          },
          "metadata": {}
        }
      ],
      "source": [
        "plt.scatter(X, y_reverse, color='red')\n",
        "plt.scatter(X, y, color='blue')\n",
        "plt.show()"
      ]
    },
    {
      "cell_type": "markdown",
      "id": "498b1837",
      "metadata": {
        "id": "498b1837"
      },
      "source": [
        "***Tọa độ trung tâm***\n",
        "\n",
        "Phương trình giao của 2 đoạn thẳng trong không gian Oxy\n",
        "$$2 * x + 0.5 = -2 * x + 398.5$$\n",
        "$$x = 100, y = 200$$\n"
      ]
    },
    {
      "cell_type": "code",
      "execution_count": null,
      "id": "465a05a1",
      "metadata": {
        "id": "465a05a1"
      },
      "outputs": [],
      "source": [
        "image_temp = image.copy()\n",
        "cv2.line(image_temp, (0, 0), (image_attributes['width'], image_attributes['height']), (255, 0, 0), 1) # blue line\n",
        "cv2.line(image_temp, (0, image_attributes['height']), (image_attributes['width'], 0), (0, 0, 255), 1) # red line\n",
        "image_temp[199, 99]=[0, 255, 0]\n",
        "image_temp[200, 100]=[0, 255, 0]\n",
        "image_temp[200, 99]=[0, 255, 0]  2-\n",
        "\n",
        "plt.figure(figsize=(6, 12))\n",
        "plt.imshow(cv2.cvtColor(image_temp, cv2.COLOR_BGR2RGB), origin='lower')\n"
      ]
    }
  ],
  "metadata": {
    "kernelspec": {
      "display_name": "Python 3",
      "name": "python3"
    },
    "language_info": {
      "codemirror_mode": {
        "name": "ipython",
        "version": 3
      },
      "file_extension": ".py",
      "mimetype": "text/x-python",
      "name": "python",
      "nbconvert_exporter": "python",
      "pygments_lexer": "ipython3",
      "version": "3.9.12"
    },
    "colab": {
      "provenance": [],
      "gpuType": "T4"
    },
    "accelerator": "GPU"
  },
  "nbformat": 4,
  "nbformat_minor": 5
}