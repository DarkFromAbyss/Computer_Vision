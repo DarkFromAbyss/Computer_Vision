{
  "cells": [
    {
      "cell_type": "code",
      "execution_count": null,
      "id": "2e4bf5a2",
      "metadata": {
        "id": "2e4bf5a2"
      },
      "outputs": [],
      "source": [
        "import cv2\n",
        "import math\n",
        "import numpy as np\n",
        "import matplotlib.pyplot as plt\n",
        "\n",
        "from scipy.optimize import minimize\n",
        "from sklearn.linear_model import LinearRegression\n"
      ]
    },
    {
      "cell_type": "markdown",
      "id": "3df800b9",
      "metadata": {
        "id": "3df800b9"
      },
      "source": [
        "## Yêu cầu bào toán\n",
        "- Sử dụng python và opencv\n",
        "- Tạo ảnh trắng size 400*200\n",
        "- vẽ hình vuông size 20*20 ở chính giữa\n",
        "- Chứng minh bản thân đúng"
      ]
    },
    {
      "cell_type": "markdown",
      "id": "2c59f4e3",
      "metadata": {
        "id": "2c59f4e3"
      },
      "source": [
        "### 1.Khởi tạo tham số"
      ]
    },
    {
      "cell_type": "code",
      "execution_count": null,
      "id": "52e6e8bb",
      "metadata": {
        "id": "52e6e8bb"
      },
      "outputs": [],
      "source": [
        "# Khoi tao shape cua image va rec (bang dictionary)\n",
        "'''\n",
        "    Arguments:\n",
        "        width: chieu rong cua anh (pixels)\n",
        "        height: chieu cao cua anh (pixels)\n",
        "        channels: so kenh mau cua anh (1 kenh cho anh xam, 3 kenh cho anh mau RGB)\n",
        "        color: mau nen cua anh (RGB)\n",
        "'''\n",
        "\n",
        "image_attributes = {\n",
        "                'width': 200,\n",
        "                'height': 400,\n",
        "                'channels': 3,\n",
        "                'color': [255, 255, 255]\n",
        "               } # white color in BGR\n",
        "\n",
        "rec_attributes = {\n",
        "                    'width': 20,\n",
        "                    'height': 20,\n",
        "                    'channels': 3,\n",
        "                    'color': [0, 255, 0] # green theo yeu cau cua bai toan\n",
        "                 }"
      ]
    },
    {
      "cell_type": "markdown",
      "id": "46248974",
      "metadata": {
        "id": "46248974"
      },
      "source": [
        "### 2. Xây dựng Module tạo ảnh"
      ]
    },
    {
      "cell_type": "code",
      "execution_count": null,
      "id": "663512c5",
      "metadata": {
        "id": "663512c5"
      },
      "outputs": [],
      "source": [
        "class Image_Render:\n",
        "    def __init__(self, image_attribute: dict) :\n",
        "        self.width = image_attribute['width']\n",
        "        self.height = image_attribute['height']\n",
        "        self.channels = image_attribute['channels']\n",
        "        self.color = image_attribute['color']\n",
        "\n",
        "    def image_render_by_loop(self):\n",
        "        # Khởi tạo mảng numpy\n",
        "        image = np.zeros((self.height, self.width, self.channels), dtype=np.uint8)\n",
        "        for i in range(self.height):\n",
        "            for j in range(self.width):\n",
        "                image[i, j] = self.color\n",
        "        return image\n",
        "\n",
        "    def image_render_by_numpy(self):\n",
        "        return np.full((self.height, self.width, self.channels), self.color, dtype=np.uint8)\n",
        "\n"
      ]
    },
    {
      "cell_type": "code",
      "execution_count": null,
      "id": "4f6a4d29",
      "metadata": {
        "id": "4f6a4d29"
      },
      "outputs": [],
      "source": [
        "image = Image_Render(image_attributes).image_render_by_numpy()\n",
        "rec = Image_Render(rec_attributes).image_render_by_numpy()"
      ]
    },
    {
      "cell_type": "code",
      "execution_count": null,
      "id": "8a3de0fb",
      "metadata": {
        "colab": {
          "base_uri": "https://localhost:8080/"
        },
        "id": "8a3de0fb",
        "outputId": "389493d3-6e22-4613-adc9-dca10d50054f"
      },
      "outputs": [
        {
          "output_type": "execute_result",
          "data": {
            "text/plain": [
              "((400, 200, 3), (20, 20, 3))"
            ]
          },
          "metadata": {},
          "execution_count": 233
        }
      ],
      "source": [
        "image.shape, rec.shape"
      ]
    },
    {
      "cell_type": "markdown",
      "id": "3304e4a0",
      "metadata": {
        "id": "3304e4a0"
      },
      "source": [
        "### 3. Xác định tâm của ảnh"
      ]
    },
    {
      "cell_type": "markdown",
      "id": "e0d86f06",
      "metadata": {
        "id": "e0d86f06"
      },
      "source": [
        "##### 3.1 Giao của 2 đường chéo"
      ]
    },
    {
      "cell_type": "markdown",
      "source": [
        "***Phương pháp đại số***\n",
        "\n",
        "Tính chất của hình chữ nhật: giao điểm của 2 đường chéo trong hình chữ nhật là tâm của hình chữ nhật đó.\n",
        "\n",
        "\n",
        "**Phương trình tổng quát**\n",
        "\n",
        "Cho 2 điểm $$A(x_1, y_1) \\&  B(x_2, y_2)$$.\n",
        "\n",
        "Vector chỉ phuơng u :$$ \\vec{u} = (x_2 - x_1, y_1 - y_2)  $$\n",
        "Vector pháp tuyến n thỏa mãn :\n",
        "$$ \\vec{n} * \\vec{u} = 0\n",
        "\\begin{cases}\n",
        "\\vec{n} = (-y_u, x_u) \\\\\n",
        "\\vec{n} = (y_u, -x_u) \\\\\n",
        "\\end{cases}\n",
        "$$\n",
        "\n",
        "Phương trình đường thẳng đi qua A có dạng: $$ x_n * (x - x_1) + y_n * (y - y_1) = 0 \\\\ x_n * x + y_n * y - (x_n * x_1 + y_n * y_1) = 0$$\n",
        "\n",
        "Sau khi tính đường thẳng đi qua 2 điểm, Giải hệ phương trình"
      ],
      "metadata": {
        "id": "ECiFYhLpP75X"
      },
      "id": "ECiFYhLpP75X"
    },
    {
      "cell_type": "markdown",
      "source": [],
      "metadata": {
        "id": "Es63a_dLYkkW"
      },
      "id": "Es63a_dLYkkW"
    },
    {
      "cell_type": "markdown",
      "source": [
        "***Tính***"
      ],
      "metadata": {
        "id": "E6m1e25hYPvP"
      },
      "id": "E6m1e25hYPvP"
    },
    {
      "cell_type": "code",
      "source": [
        "\n",
        "\n",
        "def bresenham_line(A: tuple, B: tuple):\n",
        "    \"\"\"\n",
        "    Vẽ một đường thẳng từ (x1, y1) đến (x2, y2)\n",
        "    sử dụng thuật toán Bresenham.\n",
        "    Trả về một danh sách các tọa độ điểm ảnh.\n",
        "    \"\"\"\n",
        "    x1, y1 = A\n",
        "    x2, y2 = B\n",
        "    dx = abs(x2 - x1)\n",
        "    dy = abs(y2 - y1)\n",
        "    sx = 1 if x1 < x2 else -1\n",
        "    sy = 1 if y1 < y2 else -1\n",
        "    err = dx - dy\n",
        "\n",
        "    # points = []\n",
        "    input = []\n",
        "    output = []\n",
        "    x, y = x1, y1\n",
        "\n",
        "    while True:\n",
        "        input.append(x)\n",
        "        output.append(y)\n",
        "\n",
        "        if x == x2 and y == y2:\n",
        "            break\n",
        "\n",
        "        e2 = 2 * err\n",
        "        if e2 > -dy:\n",
        "            err -= dy\n",
        "            x += sx\n",
        "        if e2 < dx:\n",
        "            err += dx\n",
        "            y += sy\n",
        "\n",
        "    return np.array(input), np.array(output)\n"
      ],
      "metadata": {
        "id": "2AAhFwxRfSvA"
      },
      "id": "2AAhFwxRfSvA",
      "execution_count": null,
      "outputs": []
    },
    {
      "cell_type": "code",
      "execution_count": null,
      "id": "be57c1fe",
      "metadata": {
        "id": "be57c1fe"
      },
      "outputs": [],
      "source": [
        "X, y = bresenham_line((0, 0), (image_attributes['width']-1, image_attributes['height']-1))"
      ]
    },
    {
      "cell_type": "code",
      "execution_count": null,
      "id": "fc6f0359",
      "metadata": {
        "colab": {
          "base_uri": "https://localhost:8080/",
          "height": 430
        },
        "id": "fc6f0359",
        "outputId": "52165bb7-abac-49fe-e1f3-0d581305ae38"
      },
      "outputs": [
        {
          "output_type": "display_data",
          "data": {
            "text/plain": [
              "<Figure size 640x480 with 1 Axes>"
            ],
            "image/png": "[encoded data removed]"
          },
          "metadata": {}
        }
      ],
      "source": [
        "plt.scatter(X, y)\n",
        "plt.show()"
      ]
    },
    {
      "cell_type": "markdown",
      "source": [
        "##### Linear Regression\n",
        "Phương trình đường chéo có dạng\n",
        "$$ \\alpha * X + \\beta = y\n",
        "\\begin{cases}\n",
        "\\alpha: \\text{hệ số chặn} \\\\\n",
        "\\beta: \\text{hệ số góc} \\\\\n",
        "X: \\text{đầu vào} \\\\\n",
        "y: \\text{đầu ra}\n",
        "\\end{cases}\n",
        "$$\n",
        "\n",
        "Hồi quy (Regression)\n",
        "\n"
      ],
      "metadata": {
        "id": "oAGUeosiNNsR"
      },
      "id": "oAGUeosiNNsR"
    },
    {
      "cell_type": "code",
      "execution_count": null,
      "id": "e7a04880",
      "metadata": {
        "colab": {
          "base_uri": "https://localhost:8080/"
        },
        "id": "e7a04880",
        "outputId": "df1c23fc-cd36-4518-d0e3-344f0e8495a4"
      },
      "outputs": [
        {
          "output_type": "execute_result",
          "data": {
            "text/plain": [
              "(array([[2.]]), array([0.5]))"
            ]
          },
          "metadata": {},
          "execution_count": 237
        }
      ],
      "source": [
        "X = X.reshape(-1, 1)\n",
        "y = y.reshape(-1, 1)\n",
        "model = LinearRegression().fit(X, y)\n",
        "a1, b1 = model.coef_, model.intercept_  # coef_ = [[2.]], intercept_ = [-0.]\n",
        "a1, b1"
      ]
    },
    {
      "cell_type": "code",
      "execution_count": null,
      "id": "43e5a17b",
      "metadata": {
        "colab": {
          "base_uri": "https://localhost:8080/"
        },
        "id": "43e5a17b",
        "outputId": "efd05cdd-130b-4826-ceb2-ede9409a2b79"
      },
      "outputs": [
        {
          "output_type": "stream",
          "name": "stdout",
          "text": [
            "Tham số ước lượng: beta_0 = 0.5000\n",
            "Tham số ước lượng: beta_1 = 2.0000\n"
          ]
        }
      ],
      "source": [
        "# 2. Định nghĩa hàm log-likelihood\n",
        "def log_likelihood(params, X, y):\n",
        "    \"\"\"\n",
        "    Hàm log-likelihood cho mô hình hồi quy tuyến tính.\n",
        "    params[0] là beta_0 (hệ số chặn)\n",
        "    params[1] là beta_1 (hệ số góc)\n",
        "    params[2] là sigma (độ lệch chuẩn của sai số)\n",
        "    \"\"\"\n",
        "    beta_0, beta_1, sigma = params\n",
        "\n",
        "    # Tính giá trị dự đoán từ mô hình\n",
        "    y_pred = beta_0 + beta_1 * X # flatten() để chuyển X từ (n, 1) sang (n,)\n",
        "    # Tính phần còn lại (sai số)\n",
        "    residuals = y - y_pred\n",
        "\n",
        "    # Tính log-likelihood\n",
        "    # Hàm PDF của phân phối chuẩn: L(theta) = tích của PDF(yi | xi, theta)\n",
        "    # Log-likelihood: LL(theta) = tổng của ln(PDF(yi | xi, theta))\n",
        "    # ln(PDF) = -0.5 * ln(2*pi) - ln(sigma) - 0.5 * ((y - y_pred) / sigma)^2\n",
        "    n = len(y)\n",
        "    log_L = -n/2 * np.log(2 * np.pi) - n * np.log(sigma) - (1/(2 * sigma**2)) * np.sum(residuals**2)\n",
        "\n",
        "    # SciPy's `minimize` tìm cực tiểu, nên ta phải tối thiểu hóa log-likelihood âm\n",
        "    return -log_L\n",
        "\n",
        "# 3. Ước lượng các tham số bằng cách tối thiểu hóa hàm log-likelihood âm\n",
        "# Đặt giá trị khởi tạo cho các tham số (thường là một phỏng đoán hợp lý)\n",
        "initial_params = [0, 0, 1]\n",
        "\n",
        "# Sử dụng minimize của SciPy để tìm cực tiểu của hàm log-likelihood âm\n",
        "# Tham số bounds được sử dụng để đảm bảo sigma luôn dương\n",
        "bounds = [(None, None), (None, None), (0.01, None)]\n",
        "result = minimize(log_likelihood, initial_params, args=(X, y), bounds=bounds)\n",
        "\n",
        "# 4. Hiển thị kết quả ước lượng\n",
        "estimated_beta_0, estimated_beta_1, estimated_sigma = result.x\n",
        "\n",
        "print(f\"Tham số ước lượng: beta_0 = {estimated_beta_0:.4f}\")\n",
        "print(f\"Tham số ước lượng: beta_1 = {estimated_beta_1:.4f}\")"
      ]
    },
    {
      "cell_type": "code",
      "execution_count": null,
      "id": "30963243",
      "metadata": {
        "id": "30963243"
      },
      "outputs": [],
      "source": [
        "y_reverse = np.flip(y)"
      ]
    },
    {
      "cell_type": "code",
      "execution_count": null,
      "id": "d8b107f3",
      "metadata": {
        "colab": {
          "base_uri": "https://localhost:8080/",
          "height": 430
        },
        "id": "d8b107f3",
        "outputId": "ec2a753c-bddf-434b-a57e-3d8907117d11"
      },
      "outputs": [
        {
          "output_type": "display_data",
          "data": {
            "text/plain": [
              "<Figure size 640x480 with 1 Axes>"
            ],
            "image/png": "[encoded data removed]"
          },
          "metadata": {}
        }
      ],
      "source": [
        "plt.scatter(X, y_reverse)\n",
        "plt.show()"
      ]
    },
    {
      "cell_type": "code",
      "execution_count": null,
      "id": "c1e6b2ef",
      "metadata": {
        "colab": {
          "base_uri": "https://localhost:8080/"
        },
        "id": "c1e6b2ef",
        "outputId": "86f6e518-5052-4790-9431-bef470060312"
      },
      "outputs": [
        {
          "output_type": "execute_result",
          "data": {
            "text/plain": [
              "(array([[-2.]]), array([398.5]))"
            ]
          },
          "metadata": {},
          "execution_count": 241
        }
      ],
      "source": [
        "model = LinearRegression().fit(X, y_reverse)\n",
        "a2, b2 = model.coef_, model.intercept_\n",
        "a2, b2"
      ]
    },
    {
      "cell_type": "code",
      "execution_count": null,
      "id": "49723d3d",
      "metadata": {
        "colab": {
          "base_uri": "https://localhost:8080/"
        },
        "id": "49723d3d",
        "outputId": "d4152aef-6d3a-4038-af6b-59bbc02407d3"
      },
      "outputs": [
        {
          "output_type": "stream",
          "name": "stdout",
          "text": [
            "Tham số ước lượng: beta_0 = 398.5000\n",
            "Tham số ước lượng: beta_1 = -2.0000\n"
          ]
        }
      ],
      "source": [
        "result = minimize(log_likelihood, initial_params, args=(X, y_reverse), bounds=bounds)\n",
        "\n",
        "# 4. Hiển thị kết quả ước lượng\n",
        "estimated_beta_0, estimated_beta_1, estimated_sigma = result.x\n",
        "\n",
        "print(f\"Tham số ước lượng: beta_0 = {estimated_beta_0:.4f}\")\n",
        "print(f\"Tham số ước lượng: beta_1 = {estimated_beta_1:.4f}\")"
      ]
    },
    {
      "cell_type": "code",
      "execution_count": null,
      "id": "2cd93d2d",
      "metadata": {
        "colab": {
          "base_uri": "https://localhost:8080/",
          "height": 430
        },
        "id": "2cd93d2d",
        "outputId": "4b5edcb4-ad99-4bb2-fc18-1b6c1df9ed14"
      },
      "outputs": [
        {
          "output_type": "display_data",
          "data": {
            "text/plain": [
              "<Figure size 640x480 with 1 Axes>"
            ],
            "image/png": "[encoded data removed]"
          },
          "metadata": {}
        }
      ],
      "source": [
        "plt.scatter(X, y_reverse, color='red')\n",
        "plt.scatter(X, y, color='blue')\n",
        "plt.show()"
      ]
    },
    {
      "cell_type": "code",
      "source": [
        "a = abs(a1 - a2)\n",
        "b = abs(b1 - b2)\n",
        "x_center = b/a\n",
        "y_center = a1 * x_center + b1\n",
        "print(f\"Tọa độ trung tâm : x = {x_center}, y = {y_center}\")"
      ],
      "metadata": {
        "id": "dTj11WvJjVn4",
        "outputId": "cb9232e2-d00f-42e3-f6c0-30d480fd0912",
        "colab": {
          "base_uri": "https://localhost:8080/"
        }
      },
      "id": "dTj11WvJjVn4",
      "execution_count": null,
      "outputs": [
        {
          "output_type": "stream",
          "name": "stdout",
          "text": [
            "Tọa độ trung tâm : x = [[99.5]], y = [[199.5]]\n"
          ]
        }
      ]
    },
    {
      "cell_type": "code",
      "source": [
        "x_center = image_attributes/2"
      ],
      "metadata": {
        "id": "NKaNLYLIM84b"
      },
      "id": "NKaNLYLIM84b",
      "execution_count": null,
      "outputs": []
    },
    {
      "cell_type": "markdown",
      "id": "498b1837",
      "metadata": {
        "id": "498b1837"
      },
      "source": [
        "***Tọa độ trung tâm***\n",
        "\n",
        "Phương trình giao của 2 đoạn thẳng trong không gian Oxy\n",
        "$$2 * x + 0.5 = -2 * x + 398.5$$\n",
        "$$x = 99.5, y = 199.5$$\n",
        "\n",
        "Ảnh là một biểu diễn của ma trận pixel có dạng **m*n**\n",
        "\n",
        "Vị trí của 1 pixel có dạng\n",
        "$$A[i, j]\n",
        "\\begin{cases}\n",
        "i, & \\{ i \\in \\mathbb{N} |  i: 0  \\rightarrow n \\} \\\\\n",
        "j, & \\{ i \\in \\mathbb{N} |  j: 0  \\rightarrow m \\}\n",
        "\\end{cases}\n",
        "$$\n",
        "\n",
        "Giả sử\n",
        "$$ x \\in [99, 100] \\&y \\in [199, 200]\n",
        "\\begin{cases}\n",
        "x = 99, y= 199 \\\\\n",
        "x = 100, y= 199 \\\\\n",
        "x = 99, y= 200 \\\\\n",
        "x = 100, y= 200 \\\\\n",
        "\\end{cases}\n",
        "$$\n"
      ]
    },
    {
      "cell_type": "code",
      "execution_count": null,
      "id": "465a05a1",
      "metadata": {
        "id": "465a05a1"
      },
      "outputs": [],
      "source": [
        "def center_ratio (a1, b1, a2, b2):\n",
        "  a = abs(a1 - a2)\n",
        "  b = abs(b1 - b2)\n",
        "  x = b/a\n",
        "  y = a1 * x + b1\n",
        "  return x_center, y_center\n"
      ]
    },
    {
      "cell_type": "code",
      "source": [
        "x_center, y_center = center_ratio(a1, b1, a2, b2)\n",
        "print(f\"Tọa độ trung tâm : x = {x_center}, y = {y_center}\")"
      ],
      "metadata": {
        "id": "IUj2HUIxn9mm",
        "outputId": "50000c91-3f4b-4b13-8259-6b74736fdf88",
        "colab": {
          "base_uri": "https://localhost:8080/"
        }
      },
      "id": "IUj2HUIxn9mm",
      "execution_count": null,
      "outputs": [
        {
          "output_type": "stream",
          "name": "stdout",
          "text": [
            "Tọa độ trung tâm : x = [[99.5]], y = [[199.5]]\n"
          ]
        }
      ]
    },
    {
      "cell_type": "code",
      "source": [
        "cv2.line(image, (0, 0), (image_attributes['width']-1, image_attributes['height']-1), (0, 0, 0), 1)\n",
        "cv2.line(image, (0, image_attributes['height']-1), (image_attributes['width']-1, 0), (255, 0, 0), 1)\n",
        "test_image = image\n",
        "cv2.rectangle(test_image, (math.floor(x_center), math.floor(y_center)), (math.ceil(x_center), math.ceil(y_center)), (0, 255, 0), -1)\n",
        "plt.figure(figsize=(10, 20))\n",
        "plt.imshow(test_image, origin='lower')\n",
        "plt.show()"
      ],
      "metadata": {
        "id": "ny3QrCTdrsFV",
        "outputId": "ed1a3fc9-7a4e-44f0-d3d3-4ceef75fd914",
        "colab": {
          "base_uri": "https://localhost:8080/",
          "height": 1000
        }
      },
      "id": "ny3QrCTdrsFV",
      "execution_count": null,
      "outputs": [
        {
          "output_type": "stream",
          "name": "stderr",
          "text": [
            "/tmp/ipython-input-3094120094.py:4: DeprecationWarning: Conversion of an array with ndim > 0 to a scalar is deprecated, and will error in future. Ensure you extract a single element from your array before performing this operation. (Deprecated NumPy 1.25.)\n",
            "  cv2.rectangle(test_image, (math.floor(x_center), math.floor(y_center)), (math.ceil(x_center), math.ceil(y_center)), (0, 255, 0), -1)\n"
          ]
        },
        {
          "output_type": "display_data",
          "data": {
            "text/plain": [
              "<Figure size 1000x2000 with 1 Axes>"
            ],
            "image/png": "[encoded data removed]"
          },
          "metadata": {}
        }
      ]
    },
    {
      "cell_type": "code",
      "source": [
        "def rec_bounding(x_center, y_center, rec_attributes):\n",
        "  if rec_attributes['width'] % 2 == 1:\n",
        "    rec_bounding_horizontal = [math.floor(x_center - rec_attributes['width']//2), math.ceil(x_center + rec_attributes['width']//2 + 1)]\n",
        "\n",
        "  if rec_attributes['height'] % 2 == 1:\n",
        "    rec_bounding_vertical = [math.floor(y_center - rec_attributes['height']//2), math.ceil(y_center + rec_attributes['height']//2 + 1)]\n",
        "\n",
        "  if rec_attributes['width'] % 2 == 0:\n",
        "    rec_bounding_horizontal = [math.floor(x_center - rec_attributes['width']//2), math.ceil(x_center + rec_attributes['width']//2)]\n",
        "\n",
        "  if rec_attributes['height'] % 2 == 0:\n",
        "    rec_bounding_vertical = [math.floor(y_center - rec_attributes['height']//2), math.ceil(y_center + rec_attributes['height']//2)]\n",
        "\n",
        "  return rec_bounding_horizontal, rec_bounding_vertical"
      ],
      "metadata": {
        "id": "95cA1at6uJeH"
      },
      "id": "95cA1at6uJeH",
      "execution_count": null,
      "outputs": []
    },
    {
      "cell_type": "code",
      "source": [
        "rec_bounding_horizontal, rec_bounding_vertical = rec_bounding(x_center, y_center, rec_attributes)\n",
        "rec_bounding_horizontal, rec_bounding_vertical"
      ],
      "metadata": {
        "id": "WZflCPjXqRon",
        "outputId": "7962481a-af34-44ee-ac6e-f48a218dec24",
        "colab": {
          "base_uri": "https://localhost:8080/"
        }
      },
      "id": "WZflCPjXqRon",
      "execution_count": null,
      "outputs": [
        {
          "output_type": "stream",
          "name": "stderr",
          "text": [
            "/tmp/ipython-input-549162352.py:9: DeprecationWarning: Conversion of an array with ndim > 0 to a scalar is deprecated, and will error in future. Ensure you extract a single element from your array before performing this operation. (Deprecated NumPy 1.25.)\n",
            "  rec_bounding_horizontal = [math.floor(x_center - rec_attributes['width']//2), math.ceil(x_center + rec_attributes['width']//2)]\n",
            "/tmp/ipython-input-549162352.py:12: DeprecationWarning: Conversion of an array with ndim > 0 to a scalar is deprecated, and will error in future. Ensure you extract a single element from your array before performing this operation. (Deprecated NumPy 1.25.)\n",
            "  rec_bounding_vertical = [math.floor(y_center - rec_attributes['height']//2), math.ceil(y_center + rec_attributes['height']//2)]\n"
          ]
        },
        {
          "output_type": "execute_result",
          "data": {
            "text/plain": [
              "([89, 110], [189, 210])"
            ]
          },
          "metadata": {},
          "execution_count": 249
        }
      ]
    },
    {
      "cell_type": "code",
      "source": [
        "cv2.line(image, (0, 0), (image_attributes['width']-1, image_attributes['height']-1), (0, 0, 0), 1)\n",
        "cv2.line(image, (0, image_attributes['height']-1), (image_attributes['width']-1, 0), (255, 0, 0), 1)\n",
        "test_image = image\n",
        "for i in range (0, 10, 2):\n",
        "    cv2.rectangle(test_image,\n",
        "                (math.floor(x_center) - i, math.floor(y_center) - i),\n",
        "                (math.ceil(x_center) + i, math.ceil(y_center) + i ),\n",
        "                (0, 255, 0), 1)\n",
        "\n",
        "plt.figure(figsize=(10, 20))\n",
        "plt.imshow(test_image, origin='lower')\n",
        "plt.show()"
      ],
      "metadata": {
        "id": "7gzMrAMkrpyg",
        "outputId": "6e24c2cd-1d93-41ee-976f-c60cd105b91e",
        "colab": {
          "base_uri": "https://localhost:8080/",
          "height": 1000
        }
      },
      "id": "7gzMrAMkrpyg",
      "execution_count": null,
      "outputs": [
        {
          "output_type": "stream",
          "name": "stderr",
          "text": [
            "/tmp/ipython-input-2541075768.py:6: DeprecationWarning: Conversion of an array with ndim > 0 to a scalar is deprecated, and will error in future. Ensure you extract a single element from your array before performing this operation. (Deprecated NumPy 1.25.)\n",
            "  (math.floor(x_center) - i, math.floor(y_center) - i),\n",
            "/tmp/ipython-input-2541075768.py:7: DeprecationWarning: Conversion of an array with ndim > 0 to a scalar is deprecated, and will error in future. Ensure you extract a single element from your array before performing this operation. (Deprecated NumPy 1.25.)\n",
            "  (math.ceil(x_center) + i, math.ceil(y_center) + i ),\n"
          ]
        },
        {
          "output_type": "display_data",
          "data": {
            "text/plain": [
              "<Figure size 1000x2000 with 1 Axes>"
            ],
            "image/png": "[encoded data removed]"
          },
          "metadata": {}
        }
      ]
    }
  ],
  "metadata": {
    "kernelspec": {
      "display_name": "Python 3",
      "name": "python3"
    },
    "language_info": {
      "codemirror_mode": {
        "name": "ipython",
        "version": 3
      },
      "file_extension": ".py",
      "mimetype": "text/x-python",
      "name": "python",
      "nbconvert_exporter": "python",
      "pygments_lexer": "ipython3",
      "version": "3.9.12"
    },
    "colab": {
      "provenance": [],
      "gpuType": "T4"
    },
    "accelerator": "GPU"
  },
  "nbformat": 4,
  "nbformat_minor": 5
}